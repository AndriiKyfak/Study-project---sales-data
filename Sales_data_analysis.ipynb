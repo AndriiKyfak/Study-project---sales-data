{
 "cells": [
  {
   "cell_type": "markdown",
   "id": "693fe8cc",
   "metadata": {},
   "source": [
    "# Sales Data Analysis\n",
    "\n",
    "Unguided study project using a [practice dataset](https://www.kaggle.com/datasets/knightbearr/sales-product-data) as published on Kaggle."
   ]
  },
  {
   "cell_type": "markdown",
   "id": "029fa64c",
   "metadata": {},
   "source": [
    "Primary goal (study goal) is finding the way to group rather granular available data to be able to draw some conclusions upon it.\n",
    "\n",
    "Project goals are establishing the following:\n",
    "- highest money-making categories (assuming equal margins relative to unit sale price), i.e. product groups that brought in the most gross revenue;\n",
    "- most profitable territories/cities (by gross revenue);\n",
    "- most profitable months;\n",
    "- most common order hours; \n",
    "- attempting to point out territories/cities with suspiciously low revenue (for instance in per capita numbers), which may not be feasible given the limited scope of a study project;\n",
    "- patterns of goods bundling up.\n",
    "\n",
    "In a realistic setting, findings could be used to optimise advertisement strategy or logistics."
   ]
  },
  {
   "cell_type": "markdown",
   "id": "0caf7696",
   "metadata": {},
   "source": [
    "On a separate note, despite the dataset being rather clean (much more granularity and inconsistency in data inputs would be expected in a work environment), the number of questions that can be answered without combining it with differently structured datasets that might be available from other departments (info on stock, shelf placing/online store recommendation emphasis, etc) is very limited and would rather serve to highlight a potential issue/opportunity than provide an answer."
   ]
  },
  {
   "cell_type": "markdown",
   "id": "d461c542",
   "metadata": {},
   "source": [
    "# I. Reading in and grouping data"
   ]
  },
  {
   "cell_type": "code",
   "execution_count": 1,
   "id": "631123fc",
   "metadata": {},
   "outputs": [],
   "source": [
    "import pandas as pd\n",
    "import matplotlib.pyplot as plt\n",
    "%matplotlib inline"
   ]
  },
  {
   "cell_type": "code",
   "execution_count": 2,
   "id": "48caff50",
   "metadata": {},
   "outputs": [],
   "source": [
    "import os"
   ]
  },
  {
   "cell_type": "code",
   "execution_count": 3,
   "id": "f277c197",
   "metadata": {},
   "outputs": [
    {
     "data": {
      "text/plain": [
       "['Sales_April_2019.csv',\n",
       " 'Sales_August_2019.csv',\n",
       " 'Sales_December_2019.csv',\n",
       " 'Sales_February_2019.csv',\n",
       " 'Sales_January_2019.csv',\n",
       " 'Sales_July_2019.csv',\n",
       " 'Sales_June_2019.csv',\n",
       " 'Sales_March_2019.csv',\n",
       " 'Sales_May_2019.csv',\n",
       " 'Sales_November_2019.csv',\n",
       " 'Sales_October_2019.csv',\n",
       " 'Sales_September_2019.csv']"
      ]
     },
     "execution_count": 3,
     "metadata": {},
     "output_type": "execute_result"
    }
   ],
   "source": [
    "#our monthly data tables extracted into a subfolder for this to work\n",
    "\n",
    "dataset_list = os.listdir('./Data/')\n",
    "dataset_list"
   ]
  },
  {
   "cell_type": "code",
   "execution_count": 4,
   "id": "40140fcd",
   "metadata": {},
   "outputs": [
    {
     "data": {
      "text/html": [
       "<div>\n",
       "<style scoped>\n",
       "    .dataframe tbody tr th:only-of-type {\n",
       "        vertical-align: middle;\n",
       "    }\n",
       "\n",
       "    .dataframe tbody tr th {\n",
       "        vertical-align: top;\n",
       "    }\n",
       "\n",
       "    .dataframe thead th {\n",
       "        text-align: right;\n",
       "    }\n",
       "</style>\n",
       "<table border=\"1\" class=\"dataframe\">\n",
       "  <thead>\n",
       "    <tr style=\"text-align: right;\">\n",
       "      <th></th>\n",
       "      <th>Order ID</th>\n",
       "      <th>Product</th>\n",
       "      <th>Quantity Ordered</th>\n",
       "      <th>Price Each</th>\n",
       "      <th>Order Date</th>\n",
       "      <th>Purchase Address</th>\n",
       "    </tr>\n",
       "  </thead>\n",
       "  <tbody>\n",
       "    <tr>\n",
       "      <th>0</th>\n",
       "      <td>147268</td>\n",
       "      <td>Wired Headphones</td>\n",
       "      <td>1</td>\n",
       "      <td>11.99</td>\n",
       "      <td>01/01/19 03:07</td>\n",
       "      <td>9 Lake St, New York City, NY 10001</td>\n",
       "    </tr>\n",
       "    <tr>\n",
       "      <th>1</th>\n",
       "      <td>148041</td>\n",
       "      <td>USB-C Charging Cable</td>\n",
       "      <td>1</td>\n",
       "      <td>11.95</td>\n",
       "      <td>01/01/19 03:40</td>\n",
       "      <td>760 Church St, San Francisco, CA 94016</td>\n",
       "    </tr>\n",
       "    <tr>\n",
       "      <th>2</th>\n",
       "      <td>149343</td>\n",
       "      <td>Apple Airpods Headphones</td>\n",
       "      <td>1</td>\n",
       "      <td>150</td>\n",
       "      <td>01/01/19 04:56</td>\n",
       "      <td>735 5th St, New York City, NY 10001</td>\n",
       "    </tr>\n",
       "    <tr>\n",
       "      <th>3</th>\n",
       "      <td>149964</td>\n",
       "      <td>AAA Batteries (4-pack)</td>\n",
       "      <td>1</td>\n",
       "      <td>2.99</td>\n",
       "      <td>01/01/19 05:53</td>\n",
       "      <td>75 Jackson St, Dallas, TX 75001</td>\n",
       "    </tr>\n",
       "    <tr>\n",
       "      <th>4</th>\n",
       "      <td>149350</td>\n",
       "      <td>USB-C Charging Cable</td>\n",
       "      <td>2</td>\n",
       "      <td>11.95</td>\n",
       "      <td>01/01/19 06:03</td>\n",
       "      <td>943 2nd St, Atlanta, GA 30301</td>\n",
       "    </tr>\n",
       "  </tbody>\n",
       "</table>\n",
       "</div>"
      ],
      "text/plain": [
       "  Order ID                   Product Quantity Ordered Price Each  \\\n",
       "0   147268          Wired Headphones                1      11.99   \n",
       "1   148041      USB-C Charging Cable                1      11.95   \n",
       "2   149343  Apple Airpods Headphones                1        150   \n",
       "3   149964    AAA Batteries (4-pack)                1       2.99   \n",
       "4   149350      USB-C Charging Cable                2      11.95   \n",
       "\n",
       "       Order Date                        Purchase Address  \n",
       "0  01/01/19 03:07      9 Lake St, New York City, NY 10001  \n",
       "1  01/01/19 03:40  760 Church St, San Francisco, CA 94016  \n",
       "2  01/01/19 04:56     735 5th St, New York City, NY 10001  \n",
       "3  01/01/19 05:53         75 Jackson St, Dallas, TX 75001  \n",
       "4  01/01/19 06:03           943 2nd St, Atlanta, GA 30301  "
      ]
     },
     "execution_count": 4,
     "metadata": {},
     "output_type": "execute_result"
    }
   ],
   "source": [
    "data = pd.DataFrame()\n",
    "for table in dataset_list:\n",
    "    temp = pd.read_csv('./Data/' + table, parse_dates = ['Order Date'])\n",
    "    data = pd.concat([data, temp])\n",
    "\n",
    "data = data.sort_values(by = 'Order Date').reset_index(drop = True)\n",
    "data.head()"
   ]
  },
  {
   "cell_type": "code",
   "execution_count": 5,
   "id": "e70bdc58",
   "metadata": {},
   "outputs": [
    {
     "name": "stdout",
     "output_type": "stream",
     "text": [
      "<class 'pandas.core.frame.DataFrame'>\n",
      "RangeIndex: 186850 entries, 0 to 186849\n",
      "Data columns (total 6 columns):\n",
      " #   Column            Non-Null Count   Dtype \n",
      "---  ------            --------------   ----- \n",
      " 0   Order ID          186305 non-null  object\n",
      " 1   Product           186305 non-null  object\n",
      " 2   Quantity Ordered  186305 non-null  object\n",
      " 3   Price Each        186305 non-null  object\n",
      " 4   Order Date        186305 non-null  object\n",
      " 5   Purchase Address  186305 non-null  object\n",
      "dtypes: object(6)\n",
      "memory usage: 8.6+ MB\n"
     ]
    }
   ],
   "source": [
    "data.info()"
   ]
  },
  {
   "cell_type": "markdown",
   "id": "a7376a64",
   "metadata": {},
   "source": [
    "It seems we have a few hundred lines where all values are missing, should be verified and dropped. Besides, we'll likely need total amount paid and less granular address (will try exact index match first)."
   ]
  },
  {
   "cell_type": "code",
   "execution_count": 6,
   "id": "1571b67d",
   "metadata": {},
   "outputs": [
    {
     "data": {
      "text/plain": [
       "False    186305\n",
       "True        545\n",
       "dtype: int64"
      ]
     },
     "execution_count": 6,
     "metadata": {},
     "output_type": "execute_result"
    }
   ],
   "source": [
    "mask = data.isnull().any(axis=1)\n",
    "mask.value_counts() # .any flags the row if any column value fits the criteria"
   ]
  },
  {
   "cell_type": "code",
   "execution_count": 7,
   "id": "05449923",
   "metadata": {},
   "outputs": [
    {
     "name": "stdout",
     "output_type": "stream",
     "text": [
      "<class 'pandas.core.frame.DataFrame'>\n",
      "Int64Index: 186305 entries, 0 to 186304\n",
      "Data columns (total 6 columns):\n",
      " #   Column            Non-Null Count   Dtype \n",
      "---  ------            --------------   ----- \n",
      " 0   Order ID          186305 non-null  object\n",
      " 1   Product           186305 non-null  object\n",
      " 2   Quantity Ordered  186305 non-null  object\n",
      " 3   Price Each        186305 non-null  object\n",
      " 4   Order Date        186305 non-null  object\n",
      " 5   Purchase Address  186305 non-null  object\n",
      "dtypes: object(6)\n",
      "memory usage: 9.9+ MB\n"
     ]
    }
   ],
   "source": [
    "#number of rows with at least one missing value is exactly equal to number of missing values in each row, i.e. safe to drop\n",
    "\n",
    "data = data[mask == False] #could use dropna, but we had a mask already\n",
    "data.info()"
   ]
  },
  {
   "cell_type": "code",
   "execution_count": 8,
   "id": "fbd8e299",
   "metadata": {},
   "outputs": [
    {
     "data": {
      "text/html": [
       "<div>\n",
       "<style scoped>\n",
       "    .dataframe tbody tr th:only-of-type {\n",
       "        vertical-align: middle;\n",
       "    }\n",
       "\n",
       "    .dataframe tbody tr th {\n",
       "        vertical-align: top;\n",
       "    }\n",
       "\n",
       "    .dataframe thead th {\n",
       "        text-align: right;\n",
       "    }\n",
       "</style>\n",
       "<table border=\"1\" class=\"dataframe\">\n",
       "  <thead>\n",
       "    <tr style=\"text-align: right;\">\n",
       "      <th></th>\n",
       "      <th>Order ID</th>\n",
       "      <th>Product</th>\n",
       "      <th>Quantity Ordered</th>\n",
       "      <th>Price Each</th>\n",
       "      <th>Order Date</th>\n",
       "      <th>Purchase Address</th>\n",
       "    </tr>\n",
       "  </thead>\n",
       "  <tbody>\n",
       "    <tr>\n",
       "      <th>185950</th>\n",
       "      <td>Order ID</td>\n",
       "      <td>Product</td>\n",
       "      <td>Quantity Ordered</td>\n",
       "      <td>Price Each</td>\n",
       "      <td>Order Date</td>\n",
       "      <td>Purchase Address</td>\n",
       "    </tr>\n",
       "    <tr>\n",
       "      <th>185951</th>\n",
       "      <td>Order ID</td>\n",
       "      <td>Product</td>\n",
       "      <td>Quantity Ordered</td>\n",
       "      <td>Price Each</td>\n",
       "      <td>Order Date</td>\n",
       "      <td>Purchase Address</td>\n",
       "    </tr>\n",
       "    <tr>\n",
       "      <th>185952</th>\n",
       "      <td>Order ID</td>\n",
       "      <td>Product</td>\n",
       "      <td>Quantity Ordered</td>\n",
       "      <td>Price Each</td>\n",
       "      <td>Order Date</td>\n",
       "      <td>Purchase Address</td>\n",
       "    </tr>\n",
       "    <tr>\n",
       "      <th>185953</th>\n",
       "      <td>Order ID</td>\n",
       "      <td>Product</td>\n",
       "      <td>Quantity Ordered</td>\n",
       "      <td>Price Each</td>\n",
       "      <td>Order Date</td>\n",
       "      <td>Purchase Address</td>\n",
       "    </tr>\n",
       "    <tr>\n",
       "      <th>185954</th>\n",
       "      <td>Order ID</td>\n",
       "      <td>Product</td>\n",
       "      <td>Quantity Ordered</td>\n",
       "      <td>Price Each</td>\n",
       "      <td>Order Date</td>\n",
       "      <td>Purchase Address</td>\n",
       "    </tr>\n",
       "    <tr>\n",
       "      <th>...</th>\n",
       "      <td>...</td>\n",
       "      <td>...</td>\n",
       "      <td>...</td>\n",
       "      <td>...</td>\n",
       "      <td>...</td>\n",
       "      <td>...</td>\n",
       "    </tr>\n",
       "    <tr>\n",
       "      <th>186300</th>\n",
       "      <td>Order ID</td>\n",
       "      <td>Product</td>\n",
       "      <td>Quantity Ordered</td>\n",
       "      <td>Price Each</td>\n",
       "      <td>Order Date</td>\n",
       "      <td>Purchase Address</td>\n",
       "    </tr>\n",
       "    <tr>\n",
       "      <th>186301</th>\n",
       "      <td>Order ID</td>\n",
       "      <td>Product</td>\n",
       "      <td>Quantity Ordered</td>\n",
       "      <td>Price Each</td>\n",
       "      <td>Order Date</td>\n",
       "      <td>Purchase Address</td>\n",
       "    </tr>\n",
       "    <tr>\n",
       "      <th>186302</th>\n",
       "      <td>Order ID</td>\n",
       "      <td>Product</td>\n",
       "      <td>Quantity Ordered</td>\n",
       "      <td>Price Each</td>\n",
       "      <td>Order Date</td>\n",
       "      <td>Purchase Address</td>\n",
       "    </tr>\n",
       "    <tr>\n",
       "      <th>186303</th>\n",
       "      <td>Order ID</td>\n",
       "      <td>Product</td>\n",
       "      <td>Quantity Ordered</td>\n",
       "      <td>Price Each</td>\n",
       "      <td>Order Date</td>\n",
       "      <td>Purchase Address</td>\n",
       "    </tr>\n",
       "    <tr>\n",
       "      <th>186304</th>\n",
       "      <td>Order ID</td>\n",
       "      <td>Product</td>\n",
       "      <td>Quantity Ordered</td>\n",
       "      <td>Price Each</td>\n",
       "      <td>Order Date</td>\n",
       "      <td>Purchase Address</td>\n",
       "    </tr>\n",
       "  </tbody>\n",
       "</table>\n",
       "<p>355 rows × 6 columns</p>\n",
       "</div>"
      ],
      "text/plain": [
       "        Order ID  Product  Quantity Ordered  Price Each  Order Date  \\\n",
       "185950  Order ID  Product  Quantity Ordered  Price Each  Order Date   \n",
       "185951  Order ID  Product  Quantity Ordered  Price Each  Order Date   \n",
       "185952  Order ID  Product  Quantity Ordered  Price Each  Order Date   \n",
       "185953  Order ID  Product  Quantity Ordered  Price Each  Order Date   \n",
       "185954  Order ID  Product  Quantity Ordered  Price Each  Order Date   \n",
       "...          ...      ...               ...         ...         ...   \n",
       "186300  Order ID  Product  Quantity Ordered  Price Each  Order Date   \n",
       "186301  Order ID  Product  Quantity Ordered  Price Each  Order Date   \n",
       "186302  Order ID  Product  Quantity Ordered  Price Each  Order Date   \n",
       "186303  Order ID  Product  Quantity Ordered  Price Each  Order Date   \n",
       "186304  Order ID  Product  Quantity Ordered  Price Each  Order Date   \n",
       "\n",
       "        Purchase Address  \n",
       "185950  Purchase Address  \n",
       "185951  Purchase Address  \n",
       "185952  Purchase Address  \n",
       "185953  Purchase Address  \n",
       "185954  Purchase Address  \n",
       "...                  ...  \n",
       "186300  Purchase Address  \n",
       "186301  Purchase Address  \n",
       "186302  Purchase Address  \n",
       "186303  Purchase Address  \n",
       "186304  Purchase Address  \n",
       "\n",
       "[355 rows x 6 columns]"
      ]
     },
     "execution_count": 8,
     "metadata": {},
     "output_type": "execute_result"
    }
   ],
   "source": [
    "#'Order Date' should've been datetime\n",
    "#besides running .astype() on other numeric columns caused curious errors at this point\n",
    "\n",
    "data[data['Order ID'] == 'Order ID'] #this value was listed as 'invalid base' for int conversion"
   ]
  },
  {
   "cell_type": "code",
   "execution_count": 9,
   "id": "1f595733",
   "metadata": {},
   "outputs": [
    {
     "data": {
      "text/plain": [
       "(185950, 6)"
      ]
     },
     "execution_count": 9,
     "metadata": {},
     "output_type": "execute_result"
    }
   ],
   "source": [
    "data = data[data['Order ID'] != 'Order ID']\n",
    "data.shape"
   ]
  },
  {
   "cell_type": "code",
   "execution_count": 10,
   "id": "3a7a2c3b",
   "metadata": {},
   "outputs": [
    {
     "name": "stdout",
     "output_type": "stream",
     "text": [
      "<class 'pandas.core.frame.DataFrame'>\n",
      "Int64Index: 185950 entries, 0 to 185949\n",
      "Data columns (total 7 columns):\n",
      " #   Column            Non-Null Count   Dtype         \n",
      "---  ------            --------------   -----         \n",
      " 0   Order ID          185950 non-null  int32         \n",
      " 1   Product           185950 non-null  object        \n",
      " 2   Quantity Ordered  185950 non-null  int32         \n",
      " 3   Price Each        185950 non-null  float64       \n",
      " 4   Order Date        185950 non-null  datetime64[ns]\n",
      " 5   Purchase Address  185950 non-null  object        \n",
      " 6   Cost              185950 non-null  float64       \n",
      "dtypes: datetime64[ns](1), float64(2), int32(2), object(2)\n",
      "memory usage: 9.9+ MB\n"
     ]
    }
   ],
   "source": [
    "#none of the below caused errors, which should rule out non-numeric values\n",
    "#separate check for numeric outliers will be performed later\n",
    "\n",
    "data['Order ID'] = data['Order ID'].astype(int)\n",
    "data['Quantity Ordered'] = data['Quantity Ordered'].astype(int)\n",
    "data['Price Each'] = data['Price Each'].astype(float)\n",
    "data['Cost'] = data['Quantity Ordered']*data['Price Each']\n",
    "data['Order Date'] = pd.to_datetime(data['Order Date']) #this took surprisingly long to complete\n",
    "data.info()"
   ]
  },
  {
   "cell_type": "code",
   "execution_count": 11,
   "id": "210867dc",
   "metadata": {},
   "outputs": [
    {
     "data": {
      "text/html": [
       "<div>\n",
       "<style scoped>\n",
       "    .dataframe tbody tr th:only-of-type {\n",
       "        vertical-align: middle;\n",
       "    }\n",
       "\n",
       "    .dataframe tbody tr th {\n",
       "        vertical-align: top;\n",
       "    }\n",
       "\n",
       "    .dataframe thead th {\n",
       "        text-align: right;\n",
       "    }\n",
       "</style>\n",
       "<table border=\"1\" class=\"dataframe\">\n",
       "  <thead>\n",
       "    <tr style=\"text-align: right;\">\n",
       "      <th></th>\n",
       "      <th>Order ID</th>\n",
       "      <th>Product</th>\n",
       "      <th>Quantity Ordered</th>\n",
       "      <th>Price Each</th>\n",
       "      <th>Order Date</th>\n",
       "      <th>Purchase Address</th>\n",
       "      <th>Cost</th>\n",
       "      <th>Post Index</th>\n",
       "    </tr>\n",
       "  </thead>\n",
       "  <tbody>\n",
       "    <tr>\n",
       "      <th>0</th>\n",
       "      <td>147268</td>\n",
       "      <td>Wired Headphones</td>\n",
       "      <td>1</td>\n",
       "      <td>11.99</td>\n",
       "      <td>2019-01-01 03:07:00</td>\n",
       "      <td>9 Lake St, New York City, NY 10001</td>\n",
       "      <td>11.99</td>\n",
       "      <td>NY 10001</td>\n",
       "    </tr>\n",
       "    <tr>\n",
       "      <th>1</th>\n",
       "      <td>148041</td>\n",
       "      <td>USB-C Charging Cable</td>\n",
       "      <td>1</td>\n",
       "      <td>11.95</td>\n",
       "      <td>2019-01-01 03:40:00</td>\n",
       "      <td>760 Church St, San Francisco, CA 94016</td>\n",
       "      <td>11.95</td>\n",
       "      <td>CA 94016</td>\n",
       "    </tr>\n",
       "    <tr>\n",
       "      <th>2</th>\n",
       "      <td>149343</td>\n",
       "      <td>Apple Airpods Headphones</td>\n",
       "      <td>1</td>\n",
       "      <td>150.00</td>\n",
       "      <td>2019-01-01 04:56:00</td>\n",
       "      <td>735 5th St, New York City, NY 10001</td>\n",
       "      <td>150.00</td>\n",
       "      <td>NY 10001</td>\n",
       "    </tr>\n",
       "    <tr>\n",
       "      <th>3</th>\n",
       "      <td>149964</td>\n",
       "      <td>AAA Batteries (4-pack)</td>\n",
       "      <td>1</td>\n",
       "      <td>2.99</td>\n",
       "      <td>2019-01-01 05:53:00</td>\n",
       "      <td>75 Jackson St, Dallas, TX 75001</td>\n",
       "      <td>2.99</td>\n",
       "      <td>TX 75001</td>\n",
       "    </tr>\n",
       "    <tr>\n",
       "      <th>4</th>\n",
       "      <td>149350</td>\n",
       "      <td>USB-C Charging Cable</td>\n",
       "      <td>2</td>\n",
       "      <td>11.95</td>\n",
       "      <td>2019-01-01 06:03:00</td>\n",
       "      <td>943 2nd St, Atlanta, GA 30301</td>\n",
       "      <td>23.90</td>\n",
       "      <td>GA 30301</td>\n",
       "    </tr>\n",
       "  </tbody>\n",
       "</table>\n",
       "</div>"
      ],
      "text/plain": [
       "   Order ID                   Product  Quantity Ordered  Price Each  \\\n",
       "0    147268          Wired Headphones                 1       11.99   \n",
       "1    148041      USB-C Charging Cable                 1       11.95   \n",
       "2    149343  Apple Airpods Headphones                 1      150.00   \n",
       "3    149964    AAA Batteries (4-pack)                 1        2.99   \n",
       "4    149350      USB-C Charging Cable                 2       11.95   \n",
       "\n",
       "           Order Date                        Purchase Address    Cost  \\\n",
       "0 2019-01-01 03:07:00      9 Lake St, New York City, NY 10001   11.99   \n",
       "1 2019-01-01 03:40:00  760 Church St, San Francisco, CA 94016   11.95   \n",
       "2 2019-01-01 04:56:00     735 5th St, New York City, NY 10001  150.00   \n",
       "3 2019-01-01 05:53:00         75 Jackson St, Dallas, TX 75001    2.99   \n",
       "4 2019-01-01 06:03:00           943 2nd St, Atlanta, GA 30301   23.90   \n",
       "\n",
       "  Post Index  \n",
       "0   NY 10001  \n",
       "1   CA 94016  \n",
       "2   NY 10001  \n",
       "3   TX 75001  \n",
       "4   GA 30301  "
      ]
     },
     "execution_count": 11,
     "metadata": {},
     "output_type": "execute_result"
    }
   ],
   "source": [
    "data['Post Index'] = data['Purchase Address'].str.extract('(\\w{2}\\s\\d{4}\\d?)')\n",
    "data.head()"
   ]
  },
  {
   "cell_type": "code",
   "execution_count": 12,
   "id": "b7cbcef7",
   "metadata": {},
   "outputs": [
    {
     "data": {
      "image/png": "[encoded data removed]",
      "text/plain": [
       "<Figure size 432x288 with 1 Axes>"
      ]
     },
     "metadata": {},
     "output_type": "display_data"
    },
    {
     "data": {
      "image/png": "[encoded data removed]",
      "text/plain": [
       "<Figure size 432x288 with 1 Axes>"
      ]
     },
     "metadata": {},
     "output_type": "display_data"
    },
    {
     "data": {
      "image/png": "[encoded data removed]",
      "text/plain": [
       "<Figure size 432x288 with 1 Axes>"
      ]
     },
     "metadata": {},
     "output_type": "display_data"
    }
   ],
   "source": [
    "#below is a rough way of checking if there are any weird values in numeric columns\n",
    "\n",
    "plt.style.use('Solarize_Light2')\n",
    "\n",
    "data['Quantity Ordered'].plot.hist()\n",
    "plt.title('Quantity Ordered')\n",
    "plt.show()\n",
    "\n",
    "data['Price Each'].plot.hist()\n",
    "plt.title('Price Each')\n",
    "plt.show()\n",
    "\n",
    "data['Order ID'].plot.hist(bins = 5)\n",
    "plt.title('Order ID')\n",
    "plt.show()"
   ]
  },
  {
   "cell_type": "markdown",
   "id": "c5d4a02f",
   "metadata": {},
   "source": [
    "Above graphs are exploratory, confirming (with boundary values primarily) that we have no suspicious values in data. As for shapes:\n",
    "- uniform order ID distribution suggests there are no missing values, IDs were likely not assigned in some random patterns;\n",
    "- quantity ordered is heavily right-skewed, with vast majority of customers bying only one item;\n",
    "- price distribution doesn't tell much apart from the fact that the store doesn't seem to offer many popular goods priced within certain ranges, which is feasible with consumer electronics."
   ]
  },
  {
   "cell_type": "code",
   "execution_count": 13,
   "id": "63f58079",
   "metadata": {},
   "outputs": [
    {
     "data": {
      "text/plain": [
       "CA 94016    44732\n",
       "CA 90001    29605\n",
       "NY 10001    24876\n",
       "MA 02215    19934\n",
       "GA 30301    14881\n",
       "TX 75001    14820\n",
       "WA 98101    14732\n",
       "OR 97035    10010\n",
       "TX 73301     9905\n",
       "ME 04101     2455\n",
       "Name: Post Index, dtype: int64"
      ]
     },
     "execution_count": 13,
     "metadata": {},
     "output_type": "execute_result"
    }
   ],
   "source": [
    "data['Post Index'].value_counts()"
   ]
  },
  {
   "cell_type": "markdown",
   "id": "474ab250",
   "metadata": {},
   "source": [
    "Surprisingly small number of cities, replacing indices with names for readability."
   ]
  },
  {
   "cell_type": "code",
   "execution_count": 14,
   "id": "580460bf",
   "metadata": {},
   "outputs": [
    {
     "data": {
      "text/plain": [
       "San Francisco, CA    44732\n",
       "Los Angeles, CA      29605\n",
       "New York, NY         24876\n",
       "Boston, MA           19934\n",
       "Atlanta, GA          14881\n",
       "Addison, TX          14820\n",
       "Seattle, WA          14732\n",
       "Lake Oswego, OR      10010\n",
       "Austin, TX            9905\n",
       "Portland, ME          2455\n",
       "Name: City, dtype: int64"
      ]
     },
     "execution_count": 14,
     "metadata": {},
     "output_type": "execute_result"
    }
   ],
   "source": [
    "#extracting cities by capturing a group in-between commas would've been faster...\n",
    "#...but US cities tend to have duplicate names, indices are more reliable\n",
    "index_mask = {'CA 94016':'San Francisco, CA', 'CA 90001':'Los Angeles, CA', 'NY 10001':'New York, NY',\n",
    "              'MA 02215':'Boston, MA', 'GA 30301':'Atlanta, GA', 'TX 75001':'Addison, TX', 'WA 98101':'Seattle, WA',\n",
    "             'OR 97035':'Lake Oswego, OR', 'TX 73301':'Austin, TX', 'ME 04101':'Portland, ME'}\n",
    "data['Post Index'] = data['Post Index'].replace(index_mask)\n",
    "data = data.rename(columns = {'Post Index':'City'})\n",
    "#with larger datasets would've been better to use .copy() at transformation stages\n",
    "data['City'].value_counts()"
   ]
  },
  {
   "cell_type": "code",
   "execution_count": 15,
   "id": "6ee4b1c2",
   "metadata": {},
   "outputs": [
    {
     "data": {
      "text/plain": [
       "array(['Wired Headphones', 'USB-C Charging Cable',\n",
       "       'Apple Airpods Headphones', 'AAA Batteries (4-pack)', 'iPhone',\n",
       "       'Lightning Charging Cable', '34in Ultrawide Monitor',\n",
       "       'AA Batteries (4-pack)', 'Google Phone', 'Macbook Pro Laptop',\n",
       "       'ThinkPad Laptop', '27in FHD Monitor',\n",
       "       'Bose SoundSport Headphones', 'Flatscreen TV',\n",
       "       '27in 4K Gaming Monitor', 'LG Dryer', '20in Monitor',\n",
       "       'LG Washing Machine', 'Vareebadd Phone'], dtype=object)"
      ]
     },
     "execution_count": 15,
     "metadata": {},
     "output_type": "execute_result"
    }
   ],
   "source": [
    "data['Product'].unique()"
   ]
  },
  {
   "cell_type": "markdown",
   "id": "d05bc527",
   "metadata": {},
   "source": [
    "At this point one would attempt to reduce data granularity for analysis by specifying categories and assigning them to individual products via regex masks (looking up 'cable', or 'battery', and assigning relevant value into the new Category columns). Surprisingly, this particular dataset has very few unique products, and further grouping is not advisable (USB-C and Lightning cables are already substantially different, especially with respect to bundling). Which renders the primary study goal moot, will proceed regardless though."
   ]
  },
  {
   "cell_type": "code",
   "execution_count": 16,
   "id": "c5f6f134",
   "metadata": {},
   "outputs": [
    {
     "data": {
      "text/html": [
       "<div>\n",
       "<style scoped>\n",
       "    .dataframe tbody tr th:only-of-type {\n",
       "        vertical-align: middle;\n",
       "    }\n",
       "\n",
       "    .dataframe tbody tr th {\n",
       "        vertical-align: top;\n",
       "    }\n",
       "\n",
       "    .dataframe thead th {\n",
       "        text-align: right;\n",
       "    }\n",
       "</style>\n",
       "<table border=\"1\" class=\"dataframe\">\n",
       "  <thead>\n",
       "    <tr style=\"text-align: right;\">\n",
       "      <th></th>\n",
       "      <th>Order ID</th>\n",
       "      <th>Product</th>\n",
       "      <th>Quantity Ordered</th>\n",
       "      <th>Price Each</th>\n",
       "      <th>Order Date</th>\n",
       "      <th>Purchase Address</th>\n",
       "      <th>Cost</th>\n",
       "      <th>City</th>\n",
       "      <th>Month</th>\n",
       "      <th>Hour</th>\n",
       "    </tr>\n",
       "  </thead>\n",
       "  <tbody>\n",
       "    <tr>\n",
       "      <th>16337</th>\n",
       "      <td>156206</td>\n",
       "      <td>Wired Headphones</td>\n",
       "      <td>1</td>\n",
       "      <td>11.99</td>\n",
       "      <td>2019-02-16 15:35:00</td>\n",
       "      <td>861 8th St, Portland, OR 97035</td>\n",
       "      <td>11.99</td>\n",
       "      <td>Lake Oswego, OR</td>\n",
       "      <td>2</td>\n",
       "      <td>15</td>\n",
       "    </tr>\n",
       "    <tr>\n",
       "      <th>73882</th>\n",
       "      <td>222002</td>\n",
       "      <td>Macbook Pro Laptop</td>\n",
       "      <td>1</td>\n",
       "      <td>1700.00</td>\n",
       "      <td>2019-06-05 20:56:00</td>\n",
       "      <td>432 13th St, San Francisco, CA 94016</td>\n",
       "      <td>1700.00</td>\n",
       "      <td>San Francisco, CA</td>\n",
       "      <td>6</td>\n",
       "      <td>20</td>\n",
       "    </tr>\n",
       "    <tr>\n",
       "      <th>50597</th>\n",
       "      <td>190092</td>\n",
       "      <td>Apple Airpods Headphones</td>\n",
       "      <td>1</td>\n",
       "      <td>150.00</td>\n",
       "      <td>2019-04-23 16:14:00</td>\n",
       "      <td>960 Madison St, Portland, ME 04101</td>\n",
       "      <td>150.00</td>\n",
       "      <td>Portland, ME</td>\n",
       "      <td>4</td>\n",
       "      <td>16</td>\n",
       "    </tr>\n",
       "    <tr>\n",
       "      <th>181119</th>\n",
       "      <td>304056</td>\n",
       "      <td>AA Batteries (4-pack)</td>\n",
       "      <td>2</td>\n",
       "      <td>3.84</td>\n",
       "      <td>2019-12-25 23:03:00</td>\n",
       "      <td>531 Forest St, San Francisco, CA 94016</td>\n",
       "      <td>7.68</td>\n",
       "      <td>San Francisco, CA</td>\n",
       "      <td>12</td>\n",
       "      <td>23</td>\n",
       "    </tr>\n",
       "    <tr>\n",
       "      <th>31500</th>\n",
       "      <td>172050</td>\n",
       "      <td>AA Batteries (4-pack)</td>\n",
       "      <td>2</td>\n",
       "      <td>3.84</td>\n",
       "      <td>2019-03-21 03:04:00</td>\n",
       "      <td>701 11th St, San Francisco, CA 94016</td>\n",
       "      <td>7.68</td>\n",
       "      <td>San Francisco, CA</td>\n",
       "      <td>3</td>\n",
       "      <td>3</td>\n",
       "    </tr>\n",
       "  </tbody>\n",
       "</table>\n",
       "</div>"
      ],
      "text/plain": [
       "        Order ID                   Product  Quantity Ordered  Price Each  \\\n",
       "16337     156206          Wired Headphones                 1       11.99   \n",
       "73882     222002        Macbook Pro Laptop                 1     1700.00   \n",
       "50597     190092  Apple Airpods Headphones                 1      150.00   \n",
       "181119    304056     AA Batteries (4-pack)                 2        3.84   \n",
       "31500     172050     AA Batteries (4-pack)                 2        3.84   \n",
       "\n",
       "                Order Date                        Purchase Address     Cost  \\\n",
       "16337  2019-02-16 15:35:00          861 8th St, Portland, OR 97035    11.99   \n",
       "73882  2019-06-05 20:56:00    432 13th St, San Francisco, CA 94016  1700.00   \n",
       "50597  2019-04-23 16:14:00      960 Madison St, Portland, ME 04101   150.00   \n",
       "181119 2019-12-25 23:03:00  531 Forest St, San Francisco, CA 94016     7.68   \n",
       "31500  2019-03-21 03:04:00    701 11th St, San Francisco, CA 94016     7.68   \n",
       "\n",
       "                     City  Month  Hour  \n",
       "16337     Lake Oswego, OR      2    15  \n",
       "73882   San Francisco, CA      6    20  \n",
       "50597        Portland, ME      4    16  \n",
       "181119  San Francisco, CA     12    23  \n",
       "31500   San Francisco, CA      3     3  "
      ]
     },
     "execution_count": 16,
     "metadata": {},
     "output_type": "execute_result"
    }
   ],
   "source": [
    "import datetime as dt\n",
    "data['Month'] = data['Order Date'].dt.month\n",
    "data['Hour'] = data['Order Date'].dt.hour\n",
    "data.sample(5)"
   ]
  },
  {
   "cell_type": "markdown",
   "id": "66a2aaf6",
   "metadata": {},
   "source": [
    "# II. Highest money-making categories (products)"
   ]
  },
  {
   "cell_type": "code",
   "execution_count": 17,
   "id": "0803d5cd",
   "metadata": {},
   "outputs": [
    {
     "data": {
      "text/plain": [
       "Product\n",
       "Macbook Pro Laptop            8037600.00\n",
       "iPhone                        4794300.00\n",
       "ThinkPad Laptop               4129958.70\n",
       "Google Phone                  3319200.00\n",
       "27in 4K Gaming Monitor        2435097.56\n",
       "34in Ultrawide Monitor        2355558.01\n",
       "Apple Airpods Headphones      2349150.00\n",
       "Flatscreen TV                 1445700.00\n",
       "Bose SoundSport Headphones    1345565.43\n",
       "27in FHD Monitor              1132424.50\n",
       "Vareebadd Phone                827200.00\n",
       "20in Monitor                   454148.71\n",
       "LG Washing Machine             399600.00\n",
       "LG Dryer                       387600.00\n",
       "Lightning Charging Cable       347094.15\n",
       "USB-C Charging Cable           286501.25\n",
       "Wired Headphones               246478.43\n",
       "AA Batteries (4-pack)          106118.40\n",
       "AAA Batteries (4-pack)          92740.83\n",
       "Name: Cost, dtype: float64"
      ]
     },
     "execution_count": 17,
     "metadata": {},
     "output_type": "execute_result"
    }
   ],
   "source": [
    "revenue_per_product = data.groupby(by = 'Product')['Cost'].sum().sort_values(ascending = False)\n",
    "revenue_per_product"
   ]
  },
  {
   "cell_type": "code",
   "execution_count": 18,
   "id": "8de7f161",
   "metadata": {},
   "outputs": [
    {
     "data": {
      "text/plain": [
       "Product\n",
       "Macbook Pro Laptop            23.302771\n",
       "iPhone                        13.899730\n",
       "ThinkPad Laptop               11.973659\n",
       "Google Phone                   9.623091\n",
       "27in 4K Gaming Monitor         7.059884\n",
       "34in Ultrawide Monitor         6.829281\n",
       "Apple Airpods Headphones       6.810703\n",
       "Flatscreen TV                  4.191402\n",
       "Bose SoundSport Headphones     3.901090\n",
       "27in FHD Monitor               3.283148\n",
       "Vareebadd Phone                2.398235\n",
       "20in Monitor                   1.316677\n",
       "LG Washing Machine             1.158528\n",
       "LG Dryer                       1.123738\n",
       "Lightning Charging Cable       1.006302\n",
       "USB-C Charging Cable           0.830630\n",
       "Wired Headphones               0.714595\n",
       "AA Batteries (4-pack)          0.307661\n",
       "AAA Batteries (4-pack)         0.268876\n",
       "Name: Cost, dtype: float64"
      ]
     },
     "execution_count": 18,
     "metadata": {},
     "output_type": "execute_result"
    }
   ],
   "source": [
    "revenue_per_product_pct = revenue_per_product*100/revenue_per_product.sum()\n",
    "revenue_per_product_pct #percent convertion not necessary for the upcoming plot, but useful to see in an array"
   ]
  },
  {
   "cell_type": "code",
   "execution_count": 19,
   "id": "46acc8fd",
   "metadata": {},
   "outputs": [
    {
     "data": {
      "text/plain": [
       "Product\n",
       "Macbook Pro Laptop          23.302771\n",
       "iPhone                      13.899730\n",
       "ThinkPad Laptop             11.973659\n",
       "Google Phone                 9.623091\n",
       "27in 4K Gaming Monitor       7.059884\n",
       "34in Ultrawide Monitor       6.829281\n",
       "Apple Airpods Headphones     6.810703\n",
       "Other                       20.500882\n",
       "Name: Cost, dtype: float64"
      ]
     },
     "execution_count": 19,
     "metadata": {},
     "output_type": "execute_result"
    }
   ],
   "source": [
    "rpp_other = revenue_per_product_pct.drop(revenue_per_product_pct.index[:7]).sum()\n",
    "rpp_pie = revenue_per_product_pct.drop(revenue_per_product_pct.index[8:]).rename(index={'Flatscreen TV': 'Other'})\n",
    "rpp_pie.loc[['Other']] = rpp_other\n",
    "rpp_pie"
   ]
  },
  {
   "cell_type": "code",
   "execution_count": 20,
   "id": "5c3d689e",
   "metadata": {},
   "outputs": [
    {
     "data": {
      "image/png": "[encoded data removed]",
      "text/plain": [
       "<Figure size 864x576 with 1 Axes>"
      ]
     },
     "metadata": {},
     "output_type": "display_data"
    }
   ],
   "source": [
    "explode = [0.1,0.1,0.1,0.2,0.2,0.2,0.2,0.1]\n",
    "\n",
    "fig = plt.figure(figsize = [12,8])\n",
    "\n",
    "rpp_pie.plot.pie(explode = explode,\n",
    "                 autopct='%1.1f%%',\n",
    "                 textprops={'fontsize': 14})\n",
    "plt.ylabel('')\n",
    "plt.title('Revenue by product, 2019',\n",
    "          y = 1.03, size = 20, weight = 'bold')\n",
    "plt.show()"
   ]
  },
  {
   "cell_type": "markdown",
   "id": "9d35454c",
   "metadata": {},
   "source": [
    "Macbooks and iPhones + Airpods account for almost half our sales. Assuming the margins are comparable, running campaigns that stimulate renewal of their Apple products by customers, as well as watching out for other Apple dealers in the area/with access to our target audience, is advisable.\n",
    "\n",
    "Given that in reality margins are not comparable, with Apple supposedly allowing for better margins, Apple products are by far the largest money-maker for the store. This does not, however, imply that opportunities to diversify product line on offer should be ignored - only highlights the current situation."
   ]
  },
  {
   "cell_type": "markdown",
   "id": "7c2dee65",
   "metadata": {},
   "source": [
    "# III. Most and least profitable cities"
   ]
  },
  {
   "cell_type": "code",
   "execution_count": 21,
   "id": "0db1a4fd",
   "metadata": {},
   "outputs": [
    {
     "data": {
      "text/plain": [
       "City\n",
       "San Francisco, CA    8262203.91\n",
       "Los Angeles, CA      5452570.80\n",
       "New York, NY         4664317.43\n",
       "Boston, MA           3661642.01\n",
       "Atlanta, GA          2795498.58\n",
       "Addison, TX          2767975.40\n",
       "Seattle, WA          2747755.48\n",
       "Lake Oswego, OR      1870732.34\n",
       "Austin, TX           1819581.75\n",
       "Portland, ME          449758.27\n",
       "Name: Cost, dtype: float64"
      ]
     },
     "execution_count": 21,
     "metadata": {},
     "output_type": "execute_result"
    }
   ],
   "source": [
    "revenue_per_city = data.groupby(by = 'City')['Cost'].sum().sort_values(ascending = False)\n",
    "revenue_per_city"
   ]
  },
  {
   "cell_type": "markdown",
   "id": "ead6f370",
   "metadata": {},
   "source": [
    "Background on cities and/or operational parameters of the store would be useful for some more insights, as such will look at per capita figures."
   ]
  },
  {
   "cell_type": "code",
   "execution_count": 22,
   "id": "67cb9d99",
   "metadata": {},
   "outputs": [
    {
     "data": {
      "text/plain": [
       "City\n",
       "San Francisco, CA      9.444850\n",
       "Los Angeles, CA        1.372406\n",
       "New York, NY           0.556601\n",
       "Boston, MA             5.311916\n",
       "Atlanta, GA            5.617489\n",
       "Addison, TX          179.412458\n",
       "Seattle, WA            3.706916\n",
       "Lake Oswego, OR       47.389106\n",
       "Austin, TX             1.883875\n",
       "Portland, ME           6.742396\n",
       "Name: Cost, dtype: float64"
      ]
     },
     "execution_count": 22,
     "metadata": {},
     "output_type": "execute_result"
    }
   ],
   "source": [
    "revenue_per_city_pc = revenue_per_city.copy()\n",
    "\n",
    "pops = [874784, 3973000, 8380000, 689326, 497642, 15428, 741251, 39476, 965872, 66706] #googled rough population numbers\n",
    "for i in range(10):\n",
    "    revenue_per_city_pc.iloc[i] /= pops[i]\n",
    "revenue_per_city_pc"
   ]
  },
  {
   "cell_type": "markdown",
   "id": "b96e6ea1",
   "metadata": {},
   "source": [
    "Those are some very weird figures. Presumably addresses act as delivery hubs for larger regions. Or, perhaps, citizens of Addison are indeed in dire need of ~40 times more laptops per capita than their compatriots. Or our store is the only outlet of its kind in Addison, and all the citizens and their suburban friends and extended relatives shop there.\n",
    "\n",
    "As this is a study exercise, assuming the figures are meaningful and plotting them all below without changes.\n",
    "\n",
    "Either way, New York, Los Angeles and Austin seem to be underperforming and warrant a closer look by the marketing team."
   ]
  },
  {
   "cell_type": "code",
   "execution_count": 23,
   "id": "46e12b43",
   "metadata": {},
   "outputs": [
    {
     "data": {
      "image/png": "[encoded data removed]",
      "text/plain": [
       "<Figure size 864x576 with 2 Axes>"
      ]
     },
     "metadata": {},
     "output_type": "display_data"
    }
   ],
   "source": [
    "fig, ax1 = plt.subplots(figsize = [12,8])\n",
    "\n",
    "ax2 = ax1.twinx()\n",
    "\n",
    "revenue_per_city.plot.bar(ax = ax1, align = 'center', label = 'Total, mln USD')\n",
    "revenue_per_city_pc.plot.bar(ax = ax2, align = 'edge', color = 'orange', label = 'Per capita, USD')\n",
    "\n",
    "plt.title('Sales per city, 2019', y = 1.05, size = 20, weight = 'bold')\n",
    "ax1.tick_params(which='major', labelrotation=30)\n",
    "ax1.set_xlabel('')\n",
    "\n",
    "ax1.set_ylim(top = 9000000)\n",
    "ax1.legend(loc = 'upper left')\n",
    "ax2.legend()\n",
    "\n",
    "plt.grid(None)\n",
    "\n",
    "plt.show()"
   ]
  },
  {
   "cell_type": "markdown",
   "id": "44837fff",
   "metadata": {},
   "source": [
    "# IV. Seasonality and common order hours"
   ]
  },
  {
   "cell_type": "code",
   "execution_count": 24,
   "id": "c238cacc",
   "metadata": {},
   "outputs": [
    {
     "data": {
      "image/png": "[encoded data removed]",
      "text/plain": [
       "<Figure size 864x576 with 1 Axes>"
      ]
     },
     "metadata": {},
     "output_type": "display_data"
    }
   ],
   "source": [
    "revenue_per_month = data.groupby(by = 'Month')['Cost'].sum()\n",
    "\n",
    "plt.figure(figsize = [12,8])\n",
    "\n",
    "#study note: there must be a better way to set individual colours; check .set_color\n",
    "revenue_per_month.plot.bar(color = ['#268bd2', '#268bd2', '#268bd2', 'orange', '#268bd2', '#268bd2',\n",
    "                                    '#268bd2', '#268bd2', '#268bd2', 'orange', '#268bd2', 'orange', ])\n",
    "\n",
    "plt.xticks(ticks = [0,1,2,3,4,5,6,7,8,9,10,11],\n",
    "           labels = ['January','February','March','April','May','June',\n",
    "                                                           'July','August','September','October','November','December'],\n",
    "          rotation = 30)\n",
    "\n",
    "plt.xlabel('')\n",
    "plt.text(x=0, y=5300000, s='Easter, Halloween and Christmas generated most sales', size = 20, weight = 'bold')\n",
    "plt.text(x=0, y=5100000, s='2019 monthly data in USD mln', size = 16)\n",
    "\n",
    "plt.show()"
   ]
  },
  {
   "cell_type": "code",
   "execution_count": 25,
   "id": "dabfff1e",
   "metadata": {},
   "outputs": [
    {
     "data": {
      "image/png": "[encoded data removed]",
      "text/plain": [
       "<Figure size 864x576 with 1 Axes>"
      ]
     },
     "metadata": {},
     "output_type": "display_data"
    }
   ],
   "source": [
    "revenue_per_hour = data.groupby(by = 'Hour')['Cost'].sum()\n",
    "\n",
    "plt.figure(figsize = [12,8])\n",
    "\n",
    "revenue_per_hour.plot.bar(color = ['#268bd2', '#268bd2', '#268bd2', '#268bd2', '#268bd2', '#268bd2',\n",
    "                                   '#268bd2', '#268bd2', '#268bd2', '#268bd2', '#268bd2', 'orange',\n",
    "                                   'orange', '#268bd2', '#268bd2', '#268bd2', '#268bd2', '#268bd2',\n",
    "                                   '#268bd2', 'orange', 'orange', '#268bd2', '#268bd2', '#268bd2', ])\n",
    "\n",
    "plt.xticks(ticks = [0,1,2,3,4,5,6,7,8,9,10,11,12,13,14,15,16,17,18,19,20,21,22,23],\n",
    "           labels = [1,2,3,4,5,6,7,8,9,10,11,12,13,14,15,16,17,18,19,20,21,22,23,24],\n",
    "           rotation = 0)\n",
    "plt.xlabel('')\n",
    "           \n",
    "plt.text(x=0, y=2800000, s='Orders peaked at lunch break and dinner time', size = 20, weight = 'bold')\n",
    "plt.text(x=0, y=2700000, s='2019 data in USD mln, by total order value', size = 16)\n",
    "\n",
    "plt.show()"
   ]
  },
  {
   "cell_type": "markdown",
   "id": "d53da46f",
   "metadata": {},
   "source": [
    "These results could be expanded by looking at peak hours per month, as well as distinguishing between workdays, weekends and holidays, not to mention checking if there's a significant difference in-between workdays. All that analysis brings little additional value to a study project and will be skipped here."
   ]
  },
  {
   "cell_type": "markdown",
   "id": "66f8fb4a",
   "metadata": {},
   "source": [
    "# V. Bundling"
   ]
  },
  {
   "cell_type": "markdown",
   "id": "aedb4583",
   "metadata": {},
   "source": [
    "As seen when exploring data, most of our orders included a single item, and most of the rest included only two items. As such, building a frequency table on purchased bundles should already provide sufficient information in case of the dataset analysed."
   ]
  },
  {
   "cell_type": "code",
   "execution_count": 26,
   "id": "453cc24d",
   "metadata": {},
   "outputs": [
    {
     "data": {
      "text/html": [
       "<div>\n",
       "<style scoped>\n",
       "    .dataframe tbody tr th:only-of-type {\n",
       "        vertical-align: middle;\n",
       "    }\n",
       "\n",
       "    .dataframe tbody tr th {\n",
       "        vertical-align: top;\n",
       "    }\n",
       "\n",
       "    .dataframe thead th {\n",
       "        text-align: right;\n",
       "    }\n",
       "</style>\n",
       "<table border=\"1\" class=\"dataframe\">\n",
       "  <thead>\n",
       "    <tr style=\"text-align: right;\">\n",
       "      <th></th>\n",
       "      <th>Order ID</th>\n",
       "      <th>Product</th>\n",
       "      <th>Quantity Ordered</th>\n",
       "      <th>Price Each</th>\n",
       "      <th>Order Date</th>\n",
       "      <th>Purchase Address</th>\n",
       "      <th>Cost</th>\n",
       "      <th>City</th>\n",
       "      <th>Month</th>\n",
       "      <th>Hour</th>\n",
       "    </tr>\n",
       "  </thead>\n",
       "  <tbody>\n",
       "    <tr>\n",
       "      <th>0</th>\n",
       "      <td>144804</td>\n",
       "      <td>Wired Headphones</td>\n",
       "      <td>1</td>\n",
       "      <td>11.99</td>\n",
       "      <td>2019-01-01 07:29:00</td>\n",
       "      <td>628 Lake St, New York City, NY 10001</td>\n",
       "      <td>11.99</td>\n",
       "      <td>New York, NY</td>\n",
       "      <td>1</td>\n",
       "      <td>7</td>\n",
       "    </tr>\n",
       "    <tr>\n",
       "      <th>1</th>\n",
       "      <td>144804</td>\n",
       "      <td>iPhone</td>\n",
       "      <td>1</td>\n",
       "      <td>700.00</td>\n",
       "      <td>2019-01-01 07:29:00</td>\n",
       "      <td>628 Lake St, New York City, NY 10001</td>\n",
       "      <td>700.00</td>\n",
       "      <td>New York, NY</td>\n",
       "      <td>1</td>\n",
       "      <td>7</td>\n",
       "    </tr>\n",
       "    <tr>\n",
       "      <th>2</th>\n",
       "      <td>148074</td>\n",
       "      <td>USB-C Charging Cable</td>\n",
       "      <td>1</td>\n",
       "      <td>11.95</td>\n",
       "      <td>2019-01-01 11:25:00</td>\n",
       "      <td>6 Johnson St, Atlanta, GA 30301</td>\n",
       "      <td>11.95</td>\n",
       "      <td>Atlanta, GA</td>\n",
       "      <td>1</td>\n",
       "      <td>11</td>\n",
       "    </tr>\n",
       "    <tr>\n",
       "      <th>3</th>\n",
       "      <td>148074</td>\n",
       "      <td>Google Phone</td>\n",
       "      <td>1</td>\n",
       "      <td>600.00</td>\n",
       "      <td>2019-01-01 11:25:00</td>\n",
       "      <td>6 Johnson St, Atlanta, GA 30301</td>\n",
       "      <td>600.00</td>\n",
       "      <td>Atlanta, GA</td>\n",
       "      <td>1</td>\n",
       "      <td>11</td>\n",
       "    </tr>\n",
       "    <tr>\n",
       "      <th>4</th>\n",
       "      <td>148450</td>\n",
       "      <td>Lightning Charging Cable</td>\n",
       "      <td>1</td>\n",
       "      <td>14.95</td>\n",
       "      <td>2019-01-01 12:02:00</td>\n",
       "      <td>761 Lakeview St, Dallas, TX 75001</td>\n",
       "      <td>14.95</td>\n",
       "      <td>Addison, TX</td>\n",
       "      <td>1</td>\n",
       "      <td>12</td>\n",
       "    </tr>\n",
       "    <tr>\n",
       "      <th>5</th>\n",
       "      <td>148450</td>\n",
       "      <td>iPhone</td>\n",
       "      <td>1</td>\n",
       "      <td>700.00</td>\n",
       "      <td>2019-01-01 12:02:00</td>\n",
       "      <td>761 Lakeview St, Dallas, TX 75001</td>\n",
       "      <td>700.00</td>\n",
       "      <td>Addison, TX</td>\n",
       "      <td>1</td>\n",
       "      <td>12</td>\n",
       "    </tr>\n",
       "    <tr>\n",
       "      <th>6</th>\n",
       "      <td>144679</td>\n",
       "      <td>Google Phone</td>\n",
       "      <td>1</td>\n",
       "      <td>600.00</td>\n",
       "      <td>2019-01-01 12:51:00</td>\n",
       "      <td>984 Lakeview St, San Francisco, CA 94016</td>\n",
       "      <td>600.00</td>\n",
       "      <td>San Francisco, CA</td>\n",
       "      <td>1</td>\n",
       "      <td>12</td>\n",
       "    </tr>\n",
       "    <tr>\n",
       "      <th>7</th>\n",
       "      <td>144679</td>\n",
       "      <td>USB-C Charging Cable</td>\n",
       "      <td>1</td>\n",
       "      <td>11.95</td>\n",
       "      <td>2019-01-01 12:51:00</td>\n",
       "      <td>984 Lakeview St, San Francisco, CA 94016</td>\n",
       "      <td>11.95</td>\n",
       "      <td>San Francisco, CA</td>\n",
       "      <td>1</td>\n",
       "      <td>12</td>\n",
       "    </tr>\n",
       "    <tr>\n",
       "      <th>8</th>\n",
       "      <td>147451</td>\n",
       "      <td>Google Phone</td>\n",
       "      <td>1</td>\n",
       "      <td>600.00</td>\n",
       "      <td>2019-01-01 12:57:00</td>\n",
       "      <td>229 Elm St, New York City, NY 10001</td>\n",
       "      <td>600.00</td>\n",
       "      <td>New York, NY</td>\n",
       "      <td>1</td>\n",
       "      <td>12</td>\n",
       "    </tr>\n",
       "    <tr>\n",
       "      <th>9</th>\n",
       "      <td>147451</td>\n",
       "      <td>Wired Headphones</td>\n",
       "      <td>1</td>\n",
       "      <td>11.99</td>\n",
       "      <td>2019-01-01 12:57:00</td>\n",
       "      <td>229 Elm St, New York City, NY 10001</td>\n",
       "      <td>11.99</td>\n",
       "      <td>New York, NY</td>\n",
       "      <td>1</td>\n",
       "      <td>12</td>\n",
       "    </tr>\n",
       "  </tbody>\n",
       "</table>\n",
       "</div>"
      ],
      "text/plain": [
       "   Order ID                   Product  Quantity Ordered  Price Each  \\\n",
       "0    144804          Wired Headphones                 1       11.99   \n",
       "1    144804                    iPhone                 1      700.00   \n",
       "2    148074      USB-C Charging Cable                 1       11.95   \n",
       "3    148074              Google Phone                 1      600.00   \n",
       "4    148450  Lightning Charging Cable                 1       14.95   \n",
       "5    148450                    iPhone                 1      700.00   \n",
       "6    144679              Google Phone                 1      600.00   \n",
       "7    144679      USB-C Charging Cable                 1       11.95   \n",
       "8    147451              Google Phone                 1      600.00   \n",
       "9    147451          Wired Headphones                 1       11.99   \n",
       "\n",
       "           Order Date                          Purchase Address    Cost  \\\n",
       "0 2019-01-01 07:29:00      628 Lake St, New York City, NY 10001   11.99   \n",
       "1 2019-01-01 07:29:00      628 Lake St, New York City, NY 10001  700.00   \n",
       "2 2019-01-01 11:25:00           6 Johnson St, Atlanta, GA 30301   11.95   \n",
       "3 2019-01-01 11:25:00           6 Johnson St, Atlanta, GA 30301  600.00   \n",
       "4 2019-01-01 12:02:00         761 Lakeview St, Dallas, TX 75001   14.95   \n",
       "5 2019-01-01 12:02:00         761 Lakeview St, Dallas, TX 75001  700.00   \n",
       "6 2019-01-01 12:51:00  984 Lakeview St, San Francisco, CA 94016  600.00   \n",
       "7 2019-01-01 12:51:00  984 Lakeview St, San Francisco, CA 94016   11.95   \n",
       "8 2019-01-01 12:57:00       229 Elm St, New York City, NY 10001  600.00   \n",
       "9 2019-01-01 12:57:00       229 Elm St, New York City, NY 10001   11.99   \n",
       "\n",
       "                City  Month  Hour  \n",
       "0       New York, NY      1     7  \n",
       "1       New York, NY      1     7  \n",
       "2        Atlanta, GA      1    11  \n",
       "3        Atlanta, GA      1    11  \n",
       "4        Addison, TX      1    12  \n",
       "5        Addison, TX      1    12  \n",
       "6  San Francisco, CA      1    12  \n",
       "7  San Francisco, CA      1    12  \n",
       "8       New York, NY      1    12  \n",
       "9       New York, NY      1    12  "
      ]
     },
     "execution_count": 26,
     "metadata": {},
     "output_type": "execute_result"
    }
   ],
   "source": [
    "bundle_data = data[data['Order ID'].duplicated(keep = False)].copy().reset_index(drop = True)\n",
    "bundle_data.head(10)"
   ]
  },
  {
   "cell_type": "code",
   "execution_count": 59,
   "id": "6ddab3b0",
   "metadata": {},
   "outputs": [
    {
     "data": {
      "text/html": [
       "<div>\n",
       "<style scoped>\n",
       "    .dataframe tbody tr th:only-of-type {\n",
       "        vertical-align: middle;\n",
       "    }\n",
       "\n",
       "    .dataframe tbody tr th {\n",
       "        vertical-align: top;\n",
       "    }\n",
       "\n",
       "    .dataframe thead th {\n",
       "        text-align: right;\n",
       "    }\n",
       "</style>\n",
       "<table border=\"1\" class=\"dataframe\">\n",
       "  <thead>\n",
       "    <tr style=\"text-align: right;\">\n",
       "      <th></th>\n",
       "      <th>Order ID</th>\n",
       "      <th>Order Date</th>\n",
       "      <th>Purchase Address</th>\n",
       "      <th>City</th>\n",
       "      <th>Month</th>\n",
       "      <th>Hour</th>\n",
       "      <th>Bundle</th>\n",
       "    </tr>\n",
       "  </thead>\n",
       "  <tbody>\n",
       "    <tr>\n",
       "      <th>0</th>\n",
       "      <td>144804</td>\n",
       "      <td>2019-01-01 07:29:00</td>\n",
       "      <td>628 Lake St, New York City, NY 10001</td>\n",
       "      <td>New York, NY</td>\n",
       "      <td>1</td>\n",
       "      <td>7</td>\n",
       "      <td>Wired Headphones, iPhone</td>\n",
       "    </tr>\n",
       "    <tr>\n",
       "      <th>1</th>\n",
       "      <td>148074</td>\n",
       "      <td>2019-01-01 11:25:00</td>\n",
       "      <td>6 Johnson St, Atlanta, GA 30301</td>\n",
       "      <td>Atlanta, GA</td>\n",
       "      <td>1</td>\n",
       "      <td>11</td>\n",
       "      <td>Google Phone, USB-C Charging Cable</td>\n",
       "    </tr>\n",
       "    <tr>\n",
       "      <th>2</th>\n",
       "      <td>148450</td>\n",
       "      <td>2019-01-01 12:02:00</td>\n",
       "      <td>761 Lakeview St, Dallas, TX 75001</td>\n",
       "      <td>Addison, TX</td>\n",
       "      <td>1</td>\n",
       "      <td>12</td>\n",
       "      <td>Lightning Charging Cable, iPhone</td>\n",
       "    </tr>\n",
       "    <tr>\n",
       "      <th>3</th>\n",
       "      <td>144679</td>\n",
       "      <td>2019-01-01 12:51:00</td>\n",
       "      <td>984 Lakeview St, San Francisco, CA 94016</td>\n",
       "      <td>San Francisco, CA</td>\n",
       "      <td>1</td>\n",
       "      <td>12</td>\n",
       "      <td>Google Phone, USB-C Charging Cable</td>\n",
       "    </tr>\n",
       "    <tr>\n",
       "      <th>4</th>\n",
       "      <td>147451</td>\n",
       "      <td>2019-01-01 12:57:00</td>\n",
       "      <td>229 Elm St, New York City, NY 10001</td>\n",
       "      <td>New York, NY</td>\n",
       "      <td>1</td>\n",
       "      <td>12</td>\n",
       "      <td>Google Phone, Wired Headphones</td>\n",
       "    </tr>\n",
       "  </tbody>\n",
       "</table>\n",
       "</div>"
      ],
      "text/plain": [
       "   Order ID          Order Date                          Purchase Address  \\\n",
       "0    144804 2019-01-01 07:29:00      628 Lake St, New York City, NY 10001   \n",
       "1    148074 2019-01-01 11:25:00           6 Johnson St, Atlanta, GA 30301   \n",
       "2    148450 2019-01-01 12:02:00         761 Lakeview St, Dallas, TX 75001   \n",
       "3    144679 2019-01-01 12:51:00  984 Lakeview St, San Francisco, CA 94016   \n",
       "4    147451 2019-01-01 12:57:00       229 Elm St, New York City, NY 10001   \n",
       "\n",
       "                City  Month  Hour                              Bundle  \n",
       "0       New York, NY      1     7            Wired Headphones, iPhone  \n",
       "1        Atlanta, GA      1    11  Google Phone, USB-C Charging Cable  \n",
       "2        Addison, TX      1    12    Lightning Charging Cable, iPhone  \n",
       "3  San Francisco, CA      1    12  Google Phone, USB-C Charging Cable  \n",
       "4       New York, NY      1    12      Google Phone, Wired Headphones  "
      ]
     },
     "execution_count": 59,
     "metadata": {},
     "output_type": "execute_result"
    }
   ],
   "source": [
    "bundle_data['Bundle'] = bundle_data.groupby(by = 'Order ID')['Product'].transform(lambda x:', '.join(sorted(x)))\n",
    "#study note: sorting above allowed ignoring more complex solutions with itertools.combinations()\n",
    "#which surprisingly still treated differently ordered bundles as separate, and functioned differently\n",
    "#(counting 2-item matches in 3-item bundles)\n",
    "\n",
    "bundle_only_bundles = bundle_data[bundle_data['Order ID'].duplicated(keep = 'first')].copy().drop(columns = ['Product', 'Quantity Ordered', 'Price Each', 'Cost']).reset_index(drop = True)\n",
    "bundle_only_bundles.head()"
   ]
  },
  {
   "cell_type": "code",
   "execution_count": 51,
   "id": "17e8f3c8",
   "metadata": {},
   "outputs": [
    {
     "name": "stdout",
     "output_type": "stream",
     "text": [
      "(14649, 11) (7513, 7)\n"
     ]
    }
   ],
   "source": [
    "print(bundle_data.shape, bundle_only_bundles.shape)"
   ]
  },
  {
   "cell_type": "code",
   "execution_count": 60,
   "id": "46d33b22",
   "metadata": {},
   "outputs": [
    {
     "data": {
      "text/plain": [
       "Lightning Charging Cable, iPhone                        1782\n",
       "Google Phone, USB-C Charging Cable                      1736\n",
       "Wired Headphones, iPhone                                 748\n",
       "USB-C Charging Cable, Vareebadd Phone                    636\n",
       "Google Phone, Wired Headphones                           622\n",
       "Apple Airpods Headphones, iPhone                         598\n",
       "Bose SoundSport Headphones, Google Phone                 338\n",
       "Google Phone, USB-C Charging Cable, Wired Headphones     234\n",
       "Vareebadd Phone, Wired Headphones                        220\n",
       "AA Batteries (4-pack), Lightning Charging Cable          206\n",
       "Name: Bundle, dtype: int64"
      ]
     },
     "execution_count": 60,
     "metadata": {},
     "output_type": "execute_result"
    }
   ],
   "source": [
    "bundle_freq2 = bundle_data['Bundle'].value_counts()\n",
    "bundle_freq2.head(10)"
   ]
  },
  {
   "cell_type": "code",
   "execution_count": 62,
   "id": "a0787b49",
   "metadata": {
    "scrolled": true
   },
   "outputs": [
    {
     "data": {
      "text/plain": [
       "Lightning Charging Cable, iPhone            1782\n",
       "Google Phone, USB-C Charging Cable          1736\n",
       "Wired Headphones, iPhone                     748\n",
       "USB-C Charging Cable, Vareebadd Phone        636\n",
       "Google Phone, Wired Headphones               622\n",
       "Apple Airpods Headphones, iPhone             598\n",
       "Bose SoundSport Headphones, Google Phone     338\n",
       "Other                                       8189\n",
       "Name: Bundle, dtype: int64"
      ]
     },
     "execution_count": 62,
     "metadata": {},
     "output_type": "execute_result"
    }
   ],
   "source": [
    "bundle_freq_other = bundle_freq2.drop(bundle_freq2.index[:7]).sum()\n",
    "bundle_freq_pie = bundle_freq2.drop(bundle_freq2.index[8:]).rename(index={'Google Phone, USB-C Charging Cable, Wired Headphones': 'Other'})\n",
    "bundle_freq_pie.loc[['Other']] = bundle_freq_other\n",
    "bundle_freq_pie"
   ]
  },
  {
   "cell_type": "code",
   "execution_count": 64,
   "id": "bac72f8b",
   "metadata": {},
   "outputs": [
    {
     "data": {
      "image/png": "[encoded data removed]",
      "text/plain": [
       "<Figure size 1080x576 with 1 Axes>"
      ]
     },
     "metadata": {},
     "output_type": "display_data"
    }
   ],
   "source": [
    "explode = [0.1,0.1,0.2,0.2,0.2,0.2,0.2,0.1]\n",
    "\n",
    "fig = plt.figure(figsize = [15,8])\n",
    "\n",
    "bundle_freq_pie.plot.pie(explode = explode,\n",
    "                         autopct='%1.1f%%',\n",
    "                         textprops={'fontsize': 8})\n",
    "plt.ylabel('')\n",
    "plt.title('Most common product bundles, 2019',\n",
    "          y = 1.08, size = 20, weight = 'bold')\n",
    "plt.show()"
   ]
  },
  {
   "cell_type": "markdown",
   "id": "74f57fc6",
   "metadata": {},
   "source": [
    "# VI. Conclusions\n",
    "\n",
    "1. The store in question collects revenue primarily from selling Apple products.\n",
    "2. Assuming that order address data is correct, New York, Los Angeles and Austin should be looked at as they're lagging behind in per-capita sales.\n",
    "3. Sales are heavily skewed towards holiday seasons, most notably clustering around Easter, Halloween and Christmas, with a heavy drop in January.\n",
    "4. Most orders are placed during lunch and at around dinner time. Morning hours, on the other hand, see little activity.\n",
    "5. Bundle orders are rare, but most commonly include compatible charging cable or headphones being purchased along with the  smartphone."
   ]
  },
  {
   "cell_type": "code",
   "execution_count": null,
   "id": "485902fc",
   "metadata": {},
   "outputs": [],
   "source": []
  },
  {
   "cell_type": "code",
   "execution_count": null,
   "id": "e3244f60",
   "metadata": {},
   "outputs": [],
   "source": []
  }
 ],
 "metadata": {
  "kernelspec": {
   "display_name": "Python 3 (ipykernel)",
   "language": "python",
   "name": "python3"
  },
  "language_info": {
   "codemirror_mode": {
    "name": "ipython",
    "version": 3
   },
   "file_extension": ".py",
   "mimetype": "text/x-python",
   "name": "python",
   "nbconvert_exporter": "python",
   "pygments_lexer": "ipython3",
   "version": "3.9.12"
  }
 },
 "nbformat": 4,
 "nbformat_minor": 5
}
